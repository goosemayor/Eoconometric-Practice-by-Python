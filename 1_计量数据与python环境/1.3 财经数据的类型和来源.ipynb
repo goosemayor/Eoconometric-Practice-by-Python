{
 "cells": [
  {
   "cell_type": "markdown",
   "metadata": {},
   "source": [
    "# 1.3 财经数据的类型和来源"
   ]
  },
  {
   "cell_type": "markdown",
   "metadata": {},
   "source": [
    "## A. 数据的分类\n",
    "\n",
    "\n",
    "结构化数据和非结构化数据是大数据的两种类型。\n",
    "\n",
    "结构化数据，顾名思义，是高度组织和整齐格式化的数据。它是可以放入表格和电子表格中的数据类型。\n",
    "\n",
    "非结构化数据包括：文章、图像、音频、视频等。\n",
    "\n",
    "在真实的世界中，结构化数据只占一个小部分，而大量的数据，尤其是网络中诞生的都是非结构化的数据。我们在之后的学习中先从结构化数据入手，使用python、数据科学的知识、以及第三方库来分析和研究这类数据集。\n",
    "\n",
    "<img src=\"image/datatype.jpg\" alt=\"img\" style=\"zoom:40%;\" />\n",
    "\n",
    "\n",
    "打开【数据】文件夹，观察结构化数据和非结构化数据集。\n",
    "\n",
    "请举出你电脑里哪种文件属于结构化数据？哪种文件属于非结构化数据？\n",
    "\n",
    "\n",
    "\n",
    "\n",
    "\n",
    "\n",
    "\n",
    "&nbsp;"
   ]
  },
  {
   "cell_type": "markdown",
   "metadata": {},
   "source": [
    "\n",
    "## B. 财经数据的来源\n",
    "\n",
    "专业性数据库网站如国家统计局网站、中国人民银行网站、中国证监会网站、世界银行网站和国际货币基金组织网站等。\n",
    "\n",
    "专业数据公司主要有路透终端、彭博数据库、CSMAR、Wind数据库等。\n",
    "\n",
    "除此之外，一些数据科学社区，如Kaggle，也提供了很多金融和经济的开源数据集。[访问链接](https://www.kaggle.com/datasets)\n",
    "\n",
    "<img src=\"image/kaggle_datasets.png\" alt=\"img\" style=\"zoom:40%;\" />\n",
    "\n"
   ]
  }
 ],
 "metadata": {
  "kernelspec": {
   "display_name": "Python 3 (ipykernel)",
   "language": "python",
   "name": "python3"
  },
  "language_info": {
   "codemirror_mode": {
    "name": "ipython",
    "version": 3
   },
   "file_extension": ".py",
   "mimetype": "text/x-python",
   "name": "python",
   "nbconvert_exporter": "python",
   "pygments_lexer": "ipython3",
   "version": "3.9.17"
  },
  "widgets": {
   "application/vnd.jupyter.widget-state+json": {
    "state": {},
    "version_major": 2,
    "version_minor": 0
   }
  }
 },
 "nbformat": 4,
 "nbformat_minor": 4
}
