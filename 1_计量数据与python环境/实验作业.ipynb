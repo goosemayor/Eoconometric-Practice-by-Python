{
 "cells": [
  {
   "cell_type": "markdown",
   "metadata": {},
   "source": [
    "# 实验作业"
   ]
  },
  {
   "cell_type": "markdown",
   "metadata": {},
   "source": [
    "内容：Python工具的下载与安装练习；编译环境的启动和运行练习；下载和存取财经数据练习\n",
    "\n",
    "要求：\n",
    "\n",
    "1. 下载安装包，启动安装程序\n",
    "\n",
    "2. 启动JupyterLab，创建一个notebook，完成hello world的输出，重启notebook\n",
    "\n",
    "3. 使用pandas库正确读取CSV格式文件【datasets/WAGE1.csv】，并回答数据集中有多少个样本多少个属性（或特征）？"
   ]
  },
  {
   "cell_type": "code",
   "execution_count": null,
   "metadata": {},
   "outputs": [],
   "source": []
  }
 ],
 "metadata": {
  "kernelspec": {
   "display_name": "Python 3 (ipykernel)",
   "language": "python",
   "name": "python3"
  },
  "language_info": {
   "codemirror_mode": {
    "name": "ipython",
    "version": 3
   },
   "file_extension": ".py",
   "mimetype": "text/x-python",
   "name": "python",
   "nbconvert_exporter": "python",
   "pygments_lexer": "ipython3",
   "version": "3.9.13"
  },
  "widgets": {
   "application/vnd.jupyter.widget-state+json": {
    "state": {},
    "version_major": 2,
    "version_minor": 0
   }
  }
 },
 "nbformat": 4,
 "nbformat_minor": 4
}
