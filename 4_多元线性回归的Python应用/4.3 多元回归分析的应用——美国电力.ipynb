{
 "cells": [
  {
   "cell_type": "markdown",
   "id": "39becf4e-4059-43d3-8bb4-9f1323de6957",
   "metadata": {},
   "source": [
    "# 多元回归分析的应用\n",
    "为了检验美国电力是否存在规模经济，Nerlove(1963)搜集了1955年145家美国电力企业的总成本(TC)、产量(Q)、工资率(PL)、燃料价格(PF)及资本租赁价格(PK)的数据。\n",
    "\n",
    "|编号|总成本(TC)/百万美元|产量(Q)/千瓦时|工资率(PL)/美元/千瓦时|燃料价格(PF)/美元/千瓦时|资本租赁价格(PK)/美元/千瓦时|\n",
    "|---|---|---|---|---|---|\n",
    "|1|0.082|2|2.09|17.9|183|\n",
    "|2|0.661|3|2.05|35.1|174|\n",
    "|3|0.990|4|2.05|35.1|171|\n",
    "|4|0.315|4|1.83|32.2|166|\n",
    "|5|0.197|5|2.12|28.6|233|\n",
    "|...|...|...|...|...|...|\n",
    "|143|73.050|11796|2.12|28.6|148|\n",
    "|144|139.422|14359|2.31|33.5|212|\n",
    "|145|119.939|16719|2.30|23.6|162|\n",
    "\n",
    "试以总成本为因变量，以产量、工资率、燃料价格和资本租赁价格为自变量，利用多元线性回归分析方法研究它们之间的关系。"
   ]
  },
  {
   "cell_type": "markdown",
   "id": "e3512d50-611f-4c99-9453-ed6957f6537d",
   "metadata": {},
   "source": [
    "数据文件为：`datasets/nerlove.csv`"
   ]
  },
  {
   "cell_type": "markdown",
   "id": "3a74e4ac-9796-4af4-bbfb-f9b7fbd31eb7",
   "metadata": {},
   "source": [
    "## 1. 观察数据"
   ]
  },
  {
   "cell_type": "code",
   "execution_count": 13,
   "id": "a33a9955-833e-4224-91ee-b15d7b254365",
   "metadata": {},
   "outputs": [
    {
     "data": {
      "text/html": [
       "<div>\n",
       "<style scoped>\n",
       "    .dataframe tbody tr th:only-of-type {\n",
       "        vertical-align: middle;\n",
       "    }\n",
       "\n",
       "    .dataframe tbody tr th {\n",
       "        vertical-align: top;\n",
       "    }\n",
       "\n",
       "    .dataframe thead th {\n",
       "        text-align: right;\n",
       "    }\n",
       "</style>\n",
       "<table border=\"1\" class=\"dataframe\">\n",
       "  <thead>\n",
       "    <tr style=\"text-align: right;\">\n",
       "      <th></th>\n",
       "      <th>总成本TC</th>\n",
       "      <th>产量Q</th>\n",
       "      <th>工资率PL</th>\n",
       "      <th>燃料价格PF</th>\n",
       "      <th>资本租赁价格PK</th>\n",
       "    </tr>\n",
       "  </thead>\n",
       "  <tbody>\n",
       "    <tr>\n",
       "      <th>0</th>\n",
       "      <td>0.082</td>\n",
       "      <td>2</td>\n",
       "      <td>2.09</td>\n",
       "      <td>17.9</td>\n",
       "      <td>183</td>\n",
       "    </tr>\n",
       "    <tr>\n",
       "      <th>1</th>\n",
       "      <td>0.661</td>\n",
       "      <td>3</td>\n",
       "      <td>2.05</td>\n",
       "      <td>35.1</td>\n",
       "      <td>174</td>\n",
       "    </tr>\n",
       "    <tr>\n",
       "      <th>2</th>\n",
       "      <td>0.990</td>\n",
       "      <td>4</td>\n",
       "      <td>2.05</td>\n",
       "      <td>35.1</td>\n",
       "      <td>171</td>\n",
       "    </tr>\n",
       "    <tr>\n",
       "      <th>3</th>\n",
       "      <td>0.315</td>\n",
       "      <td>4</td>\n",
       "      <td>1.83</td>\n",
       "      <td>32.2</td>\n",
       "      <td>166</td>\n",
       "    </tr>\n",
       "    <tr>\n",
       "      <th>4</th>\n",
       "      <td>0.197</td>\n",
       "      <td>5</td>\n",
       "      <td>2.12</td>\n",
       "      <td>28.6</td>\n",
       "      <td>233</td>\n",
       "    </tr>\n",
       "    <tr>\n",
       "      <th>...</th>\n",
       "      <td>...</td>\n",
       "      <td>...</td>\n",
       "      <td>...</td>\n",
       "      <td>...</td>\n",
       "      <td>...</td>\n",
       "    </tr>\n",
       "    <tr>\n",
       "      <th>140</th>\n",
       "      <td>44.894</td>\n",
       "      <td>9956</td>\n",
       "      <td>1.68</td>\n",
       "      <td>28.8</td>\n",
       "      <td>203</td>\n",
       "    </tr>\n",
       "    <tr>\n",
       "      <th>141</th>\n",
       "      <td>67.120</td>\n",
       "      <td>11477</td>\n",
       "      <td>2.24</td>\n",
       "      <td>26.5</td>\n",
       "      <td>151</td>\n",
       "    </tr>\n",
       "    <tr>\n",
       "      <th>142</th>\n",
       "      <td>73.050</td>\n",
       "      <td>11796</td>\n",
       "      <td>2.12</td>\n",
       "      <td>28.6</td>\n",
       "      <td>148</td>\n",
       "    </tr>\n",
       "    <tr>\n",
       "      <th>143</th>\n",
       "      <td>139.422</td>\n",
       "      <td>14359</td>\n",
       "      <td>2.31</td>\n",
       "      <td>33.5</td>\n",
       "      <td>212</td>\n",
       "    </tr>\n",
       "    <tr>\n",
       "      <th>144</th>\n",
       "      <td>119.939</td>\n",
       "      <td>16719</td>\n",
       "      <td>2.30</td>\n",
       "      <td>23.6</td>\n",
       "      <td>162</td>\n",
       "    </tr>\n",
       "  </tbody>\n",
       "</table>\n",
       "<p>145 rows × 5 columns</p>\n",
       "</div>"
      ],
      "text/plain": [
       "       总成本TC    产量Q  工资率PL  燃料价格PF  资本租赁价格PK\n",
       "0      0.082      2   2.09    17.9       183\n",
       "1      0.661      3   2.05    35.1       174\n",
       "2      0.990      4   2.05    35.1       171\n",
       "3      0.315      4   1.83    32.2       166\n",
       "4      0.197      5   2.12    28.6       233\n",
       "..       ...    ...    ...     ...       ...\n",
       "140   44.894   9956   1.68    28.8       203\n",
       "141   67.120  11477   2.24    26.5       151\n",
       "142   73.050  11796   2.12    28.6       148\n",
       "143  139.422  14359   2.31    33.5       212\n",
       "144  119.939  16719   2.30    23.6       162\n",
       "\n",
       "[145 rows x 5 columns]"
      ]
     },
     "execution_count": 13,
     "metadata": {},
     "output_type": "execute_result"
    }
   ],
   "source": [
    "import pandas as pd\n",
    "data=pd.read_csv(\"datasets/nerlove.csv\")\n",
    "data"
   ]
  },
  {
   "cell_type": "code",
   "execution_count": 14,
   "id": "0f2dc761-1484-474f-9d57-5492eb2d2d57",
   "metadata": {},
   "outputs": [
    {
     "data": {
      "text/html": [
       "<div>\n",
       "<style scoped>\n",
       "    .dataframe tbody tr th:only-of-type {\n",
       "        vertical-align: middle;\n",
       "    }\n",
       "\n",
       "    .dataframe tbody tr th {\n",
       "        vertical-align: top;\n",
       "    }\n",
       "\n",
       "    .dataframe thead th {\n",
       "        text-align: right;\n",
       "    }\n",
       "</style>\n",
       "<table border=\"1\" class=\"dataframe\">\n",
       "  <thead>\n",
       "    <tr style=\"text-align: right;\">\n",
       "      <th></th>\n",
       "      <th>TC</th>\n",
       "      <th>Q</th>\n",
       "      <th>PL</th>\n",
       "      <th>PF</th>\n",
       "      <th>PK</th>\n",
       "    </tr>\n",
       "  </thead>\n",
       "  <tbody>\n",
       "    <tr>\n",
       "      <th>0</th>\n",
       "      <td>0.082</td>\n",
       "      <td>2</td>\n",
       "      <td>2.09</td>\n",
       "      <td>17.9</td>\n",
       "      <td>183</td>\n",
       "    </tr>\n",
       "    <tr>\n",
       "      <th>1</th>\n",
       "      <td>0.661</td>\n",
       "      <td>3</td>\n",
       "      <td>2.05</td>\n",
       "      <td>35.1</td>\n",
       "      <td>174</td>\n",
       "    </tr>\n",
       "    <tr>\n",
       "      <th>2</th>\n",
       "      <td>0.990</td>\n",
       "      <td>4</td>\n",
       "      <td>2.05</td>\n",
       "      <td>35.1</td>\n",
       "      <td>171</td>\n",
       "    </tr>\n",
       "    <tr>\n",
       "      <th>3</th>\n",
       "      <td>0.315</td>\n",
       "      <td>4</td>\n",
       "      <td>1.83</td>\n",
       "      <td>32.2</td>\n",
       "      <td>166</td>\n",
       "    </tr>\n",
       "    <tr>\n",
       "      <th>4</th>\n",
       "      <td>0.197</td>\n",
       "      <td>5</td>\n",
       "      <td>2.12</td>\n",
       "      <td>28.6</td>\n",
       "      <td>233</td>\n",
       "    </tr>\n",
       "    <tr>\n",
       "      <th>...</th>\n",
       "      <td>...</td>\n",
       "      <td>...</td>\n",
       "      <td>...</td>\n",
       "      <td>...</td>\n",
       "      <td>...</td>\n",
       "    </tr>\n",
       "    <tr>\n",
       "      <th>140</th>\n",
       "      <td>44.894</td>\n",
       "      <td>9956</td>\n",
       "      <td>1.68</td>\n",
       "      <td>28.8</td>\n",
       "      <td>203</td>\n",
       "    </tr>\n",
       "    <tr>\n",
       "      <th>141</th>\n",
       "      <td>67.120</td>\n",
       "      <td>11477</td>\n",
       "      <td>2.24</td>\n",
       "      <td>26.5</td>\n",
       "      <td>151</td>\n",
       "    </tr>\n",
       "    <tr>\n",
       "      <th>142</th>\n",
       "      <td>73.050</td>\n",
       "      <td>11796</td>\n",
       "      <td>2.12</td>\n",
       "      <td>28.6</td>\n",
       "      <td>148</td>\n",
       "    </tr>\n",
       "    <tr>\n",
       "      <th>143</th>\n",
       "      <td>139.422</td>\n",
       "      <td>14359</td>\n",
       "      <td>2.31</td>\n",
       "      <td>33.5</td>\n",
       "      <td>212</td>\n",
       "    </tr>\n",
       "    <tr>\n",
       "      <th>144</th>\n",
       "      <td>119.939</td>\n",
       "      <td>16719</td>\n",
       "      <td>2.30</td>\n",
       "      <td>23.6</td>\n",
       "      <td>162</td>\n",
       "    </tr>\n",
       "  </tbody>\n",
       "</table>\n",
       "<p>145 rows × 5 columns</p>\n",
       "</div>"
      ],
      "text/plain": [
       "          TC      Q    PL    PF   PK\n",
       "0      0.082      2  2.09  17.9  183\n",
       "1      0.661      3  2.05  35.1  174\n",
       "2      0.990      4  2.05  35.1  171\n",
       "3      0.315      4  1.83  32.2  166\n",
       "4      0.197      5  2.12  28.6  233\n",
       "..       ...    ...   ...   ...  ...\n",
       "140   44.894   9956  1.68  28.8  203\n",
       "141   67.120  11477  2.24  26.5  151\n",
       "142   73.050  11796  2.12  28.6  148\n",
       "143  139.422  14359  2.31  33.5  212\n",
       "144  119.939  16719  2.30  23.6  162\n",
       "\n",
       "[145 rows x 5 columns]"
      ]
     },
     "execution_count": 14,
     "metadata": {},
     "output_type": "execute_result"
    }
   ],
   "source": [
    "data = data.rename(columns = {\"总成本TC\":\"TC\",\n",
    "                              \"产量Q\":\"Q\",\n",
    "                              \"工资率PL\":\"PL\",\n",
    "                              \"燃料价格PF\":\"PF\",\n",
    "                              \"资本租赁价格PK\":\"PK\"})\n",
    "data"
   ]
  },
  {
   "cell_type": "markdown",
   "id": "cbaa746b-8ddb-49b5-8587-95205100bd68",
   "metadata": {},
   "source": [
    "## 2. 相关性分析"
   ]
  },
  {
   "cell_type": "markdown",
   "id": "3977aa60-665a-496f-8b62-dcc40ad5b300",
   "metadata": {},
   "source": [
    "### 2.1 pearson相关系数"
   ]
  },
  {
   "cell_type": "markdown",
   "id": "fdb88355-fe9c-4ed7-8b1b-60dbd5433483",
   "metadata": {},
   "source": [
    "在做多元回归之前，我们需要确定因变量（被解释变量）和自变量（解释变量）之间是否存在相关性。使用上一章节学过的pearson相关性检验："
   ]
  },
  {
   "cell_type": "code",
   "execution_count": 25,
   "id": "b8e688c8-a1db-478d-b7f9-bd1c37f5be5a",
   "metadata": {},
   "outputs": [
    {
     "name": "stdout",
     "output_type": "stream",
     "text": [
      "总成本(TC)和产量(Q)之间的相关系数： 0.9525036987666795\n"
     ]
    }
   ],
   "source": [
    "import scipy.stats as stats\n",
    "print('总成本(TC)和产量(Q)之间的相关系数：', stats.pearsonr(data['TC'], data['Q'])[0])"
   ]
  },
  {
   "cell_type": "code",
   "execution_count": 26,
   "id": "39c85f64-5fd7-4de2-940d-712516edbe44",
   "metadata": {},
   "outputs": [
    {
     "name": "stdout",
     "output_type": "stream",
     "text": [
      "总成本(TC)和工资率(PL)之间的相关系数： 0.2513375371793568\n",
      "总成本(TC)和燃料价格(PF)之间的相关系数： 0.03393518914410796\n",
      "总成本(TC)和资本租赁价格(PK)之间的相关系数： 0.02720200044735708\n"
     ]
    }
   ],
   "source": [
    "print('总成本(TC)和工资率(PL)之间的相关系数：', stats.pearsonr(data['TC'], data['PL'])[0])\n",
    "print('总成本(TC)和燃料价格(PF)之间的相关系数：', stats.pearsonr(data['TC'], data['PF'])[0])\n",
    "print('总成本(TC)和资本租赁价格(PK)之间的相关系数：', stats.pearsonr(data['TC'], data['PK'])[0])"
   ]
  },
  {
   "cell_type": "markdown",
   "id": "1b1341f2-6137-4ddf-82a1-7476c9beeb0d",
   "metadata": {},
   "source": [
    "### 2.2 相关系数矩阵"
   ]
  },
  {
   "cell_type": "markdown",
   "id": "b5e1d2aa-6825-431c-bc75-29d17b3619e1",
   "metadata": {},
   "source": [
    "当自变量非常多，有一种更有效率的方法，可以使用`pandas.dataframe.corr()`来计算相关系数矩阵："
   ]
  },
  {
   "cell_type": "code",
   "execution_count": 3,
   "id": "d0032787-a532-478d-bb90-002c85cd85e5",
   "metadata": {},
   "outputs": [
    {
     "data": {
      "text/html": [
       "<div>\n",
       "<style scoped>\n",
       "    .dataframe tbody tr th:only-of-type {\n",
       "        vertical-align: middle;\n",
       "    }\n",
       "\n",
       "    .dataframe tbody tr th {\n",
       "        vertical-align: top;\n",
       "    }\n",
       "\n",
       "    .dataframe thead th {\n",
       "        text-align: right;\n",
       "    }\n",
       "</style>\n",
       "<table border=\"1\" class=\"dataframe\">\n",
       "  <thead>\n",
       "    <tr style=\"text-align: right;\">\n",
       "      <th></th>\n",
       "      <th>TC</th>\n",
       "      <th>Q</th>\n",
       "      <th>PL</th>\n",
       "      <th>PF</th>\n",
       "      <th>PK</th>\n",
       "    </tr>\n",
       "  </thead>\n",
       "  <tbody>\n",
       "    <tr>\n",
       "      <th>TC</th>\n",
       "      <td>1.000000</td>\n",
       "      <td>0.952504</td>\n",
       "      <td>0.251338</td>\n",
       "      <td>0.033935</td>\n",
       "      <td>0.027202</td>\n",
       "    </tr>\n",
       "    <tr>\n",
       "      <th>Q</th>\n",
       "      <td>0.952504</td>\n",
       "      <td>1.000000</td>\n",
       "      <td>0.171450</td>\n",
       "      <td>-0.077349</td>\n",
       "      <td>0.002869</td>\n",
       "    </tr>\n",
       "    <tr>\n",
       "      <th>PL</th>\n",
       "      <td>0.251338</td>\n",
       "      <td>0.171450</td>\n",
       "      <td>1.000000</td>\n",
       "      <td>0.313703</td>\n",
       "      <td>-0.178145</td>\n",
       "    </tr>\n",
       "    <tr>\n",
       "      <th>PF</th>\n",
       "      <td>0.033935</td>\n",
       "      <td>-0.077349</td>\n",
       "      <td>0.313703</td>\n",
       "      <td>1.000000</td>\n",
       "      <td>0.125428</td>\n",
       "    </tr>\n",
       "    <tr>\n",
       "      <th>PK</th>\n",
       "      <td>0.027202</td>\n",
       "      <td>0.002869</td>\n",
       "      <td>-0.178145</td>\n",
       "      <td>0.125428</td>\n",
       "      <td>1.000000</td>\n",
       "    </tr>\n",
       "  </tbody>\n",
       "</table>\n",
       "</div>"
      ],
      "text/plain": [
       "          TC         Q        PL        PF        PK\n",
       "TC  1.000000  0.952504  0.251338  0.033935  0.027202\n",
       "Q   0.952504  1.000000  0.171450 -0.077349  0.002869\n",
       "PL  0.251338  0.171450  1.000000  0.313703 -0.178145\n",
       "PF  0.033935 -0.077349  0.313703  1.000000  0.125428\n",
       "PK  0.027202  0.002869 -0.178145  0.125428  1.000000"
      ]
     },
     "execution_count": 3,
     "metadata": {},
     "output_type": "execute_result"
    }
   ],
   "source": [
    "data.corr()"
   ]
  },
  {
   "cell_type": "markdown",
   "id": "652c198f-0c02-4fad-9d8f-f2360ff7fd0c",
   "metadata": {},
   "source": [
    "我们使用seaborn来绘制变量和变量之间相关性的热力图，颜色为深色代表相关性越弱，颜色越浅代表相关性越强。接近红色，为正相关，接近蓝色，为负相关。\n",
    "> seaborn是一个底层基于matplotlib的数据可视化库，它主要用于绘制变量间的统计关系。更多用法请见[官网链接](http://seaborn.pydata.org/index.html)。"
   ]
  },
  {
   "cell_type": "code",
   "execution_count": 7,
   "id": "d04d1bb4-aead-4f66-a277-392f4ef8fb43",
   "metadata": {},
   "outputs": [
    {
     "data": {
      "text/plain": [
       "<AxesSubplot:>"
      ]
     },
     "execution_count": 7,
     "metadata": {},
     "output_type": "execute_result"
    },
    {
     "data": {
      "image/png": "[encoded data removed]",
      "text/plain": [
       "<Figure size 640x480 with 2 Axes>"
      ]
     },
     "metadata": {},
     "output_type": "display_data"
    }
   ],
   "source": [
    "import seaborn as sns\n",
    "sns.heatmap(data.corr(), annot = True, cmap='coolwarm')"
   ]
  },
  {
   "cell_type": "markdown",
   "id": "98f3f654-c46e-4595-b478-fcba51bde468",
   "metadata": {},
   "source": [
    "观察上面结果，部分解释变量和解释变量之间存在很高的相关性。"
   ]
  },
  {
   "cell_type": "markdown",
   "id": "a2ba156a-74c0-476f-a37b-c5b2e2b94bd9",
   "metadata": {},
   "source": [
    "### 2.3 单个自变量和因变量的散点图"
   ]
  },
  {
   "cell_type": "markdown",
   "id": "f674b631-dd1d-4860-8be6-2b8c58bf2ee4",
   "metadata": {},
   "source": [
    "绘制散点图观察解释变量和被解释变量之间的相关性，以被解释变量(y)为TC和解释变量(x)为Q为例："
   ]
  },
  {
   "cell_type": "code",
   "execution_count": 27,
   "id": "dcfa5484-6e5a-4cf1-bea7-69cfdc178e9a",
   "metadata": {},
   "outputs": [
    {
     "data": {
      "image/png": "[encoded data removed]",
      "text/plain": [
       "<Figure size 432x432 with 3 Axes>"
      ]
     },
     "metadata": {},
     "output_type": "display_data"
    }
   ],
   "source": [
    "import seaborn as sns\n",
    "sns.set_theme(style=\"whitegrid\")\n",
    "g = sns.jointplot(x=\"Q\", y=\"TC\", data=data,\n",
    "                  kind=\"reg\", truncate=False,\n",
    "                  height=6)"
   ]
  },
  {
   "cell_type": "markdown",
   "id": "94831cf9-223b-4c53-869c-8e8039cc266b",
   "metadata": {},
   "source": [
    "我们可以用以上命令观察被解释变量TC和其他解释变量之间是否存在相关性。\n",
    "\n",
    "也可以使用下面这个命令，将解释变量作为横坐标，被解释变量为纵坐标，绘制散点图。"
   ]
  },
  {
   "cell_type": "code",
   "execution_count": 59,
   "id": "b3f82481-886c-49f6-99d2-9eb0b82154d5",
   "metadata": {},
   "outputs": [
    {
     "data": {
      "text/plain": [
       "<seaborn.axisgrid.PairGrid at 0x7fc542c772b0>"
      ]
     },
     "execution_count": 59,
     "metadata": {},
     "output_type": "execute_result"
    },
    {
     "data": {
      "image/png": "[encoded data removed]",
      "text/plain": [
       "<Figure size 900x180 with 6 Axes>"
      ]
     },
     "metadata": {},
     "output_type": "display_data"
    }
   ],
   "source": [
    "sns.pairplot(data, kind=\"reg\", y_vars=[\"TC\"])"
   ]
  },
  {
   "cell_type": "markdown",
   "id": "bd43e67d-d931-41e2-8901-88ffe8d07e17",
   "metadata": {},
   "source": [
    "## 3. 多元回归分析"
   ]
  },
  {
   "cell_type": "markdown",
   "id": "db86b8de-cf23-4eb1-a4a1-c8856fc292eb",
   "metadata": {},
   "source": [
    "首先，在data中创建新的一列，列名为`Intercept`，值全部为1。目的为之后用OLS估计其系数$\\hat{\\beta_0}$。"
   ]
  },
  {
   "cell_type": "markdown",
   "id": "8905e3a9-38f0-4298-8fd1-9e19a0c6eeb4",
   "metadata": {},
   "source": [
    "上述回归模型中使用$X$和$y$的数据结构如下，$X$包含多个样本，以及每个样本的属性，也就是自变量，和X的每个样本对应的就是我们的预测目标$y$，也就是因变量。\n",
    "\n",
    "在实际编程中，一般使用pd.DataFrame来表示$X$和$y$。"
   ]
  },
  {
   "cell_type": "markdown",
   "id": "2bd13055-db6e-4b17-9e6e-22f120285244",
   "metadata": {},
   "source": [
    "![X&y](image/X&y.png)"
   ]
  },
  {
   "cell_type": "code",
   "execution_count": 61,
   "id": "e2ac76d2-c25e-4804-bb9b-6ba26e09738d",
   "metadata": {},
   "outputs": [
    {
     "data": {
      "text/html": [
       "<div>\n",
       "<style scoped>\n",
       "    .dataframe tbody tr th:only-of-type {\n",
       "        vertical-align: middle;\n",
       "    }\n",
       "\n",
       "    .dataframe tbody tr th {\n",
       "        vertical-align: top;\n",
       "    }\n",
       "\n",
       "    .dataframe thead th {\n",
       "        text-align: right;\n",
       "    }\n",
       "</style>\n",
       "<table border=\"1\" class=\"dataframe\">\n",
       "  <thead>\n",
       "    <tr style=\"text-align: right;\">\n",
       "      <th></th>\n",
       "      <th>Intercept</th>\n",
       "      <th>Q</th>\n",
       "      <th>PL</th>\n",
       "      <th>PF</th>\n",
       "      <th>PK</th>\n",
       "    </tr>\n",
       "  </thead>\n",
       "  <tbody>\n",
       "    <tr>\n",
       "      <th>0</th>\n",
       "      <td>1.0</td>\n",
       "      <td>2</td>\n",
       "      <td>2.09</td>\n",
       "      <td>17.9</td>\n",
       "      <td>183</td>\n",
       "    </tr>\n",
       "    <tr>\n",
       "      <th>1</th>\n",
       "      <td>1.0</td>\n",
       "      <td>3</td>\n",
       "      <td>2.05</td>\n",
       "      <td>35.1</td>\n",
       "      <td>174</td>\n",
       "    </tr>\n",
       "    <tr>\n",
       "      <th>2</th>\n",
       "      <td>1.0</td>\n",
       "      <td>4</td>\n",
       "      <td>2.05</td>\n",
       "      <td>35.1</td>\n",
       "      <td>171</td>\n",
       "    </tr>\n",
       "    <tr>\n",
       "      <th>3</th>\n",
       "      <td>1.0</td>\n",
       "      <td>4</td>\n",
       "      <td>1.83</td>\n",
       "      <td>32.2</td>\n",
       "      <td>166</td>\n",
       "    </tr>\n",
       "    <tr>\n",
       "      <th>4</th>\n",
       "      <td>1.0</td>\n",
       "      <td>5</td>\n",
       "      <td>2.12</td>\n",
       "      <td>28.6</td>\n",
       "      <td>233</td>\n",
       "    </tr>\n",
       "    <tr>\n",
       "      <th>...</th>\n",
       "      <td>...</td>\n",
       "      <td>...</td>\n",
       "      <td>...</td>\n",
       "      <td>...</td>\n",
       "      <td>...</td>\n",
       "    </tr>\n",
       "    <tr>\n",
       "      <th>140</th>\n",
       "      <td>1.0</td>\n",
       "      <td>9956</td>\n",
       "      <td>1.68</td>\n",
       "      <td>28.8</td>\n",
       "      <td>203</td>\n",
       "    </tr>\n",
       "    <tr>\n",
       "      <th>141</th>\n",
       "      <td>1.0</td>\n",
       "      <td>11477</td>\n",
       "      <td>2.24</td>\n",
       "      <td>26.5</td>\n",
       "      <td>151</td>\n",
       "    </tr>\n",
       "    <tr>\n",
       "      <th>142</th>\n",
       "      <td>1.0</td>\n",
       "      <td>11796</td>\n",
       "      <td>2.12</td>\n",
       "      <td>28.6</td>\n",
       "      <td>148</td>\n",
       "    </tr>\n",
       "    <tr>\n",
       "      <th>143</th>\n",
       "      <td>1.0</td>\n",
       "      <td>14359</td>\n",
       "      <td>2.31</td>\n",
       "      <td>33.5</td>\n",
       "      <td>212</td>\n",
       "    </tr>\n",
       "    <tr>\n",
       "      <th>144</th>\n",
       "      <td>1.0</td>\n",
       "      <td>16719</td>\n",
       "      <td>2.30</td>\n",
       "      <td>23.6</td>\n",
       "      <td>162</td>\n",
       "    </tr>\n",
       "  </tbody>\n",
       "</table>\n",
       "<p>145 rows × 5 columns</p>\n",
       "</div>"
      ],
      "text/plain": [
       "     Intercept      Q    PL    PF   PK\n",
       "0          1.0      2  2.09  17.9  183\n",
       "1          1.0      3  2.05  35.1  174\n",
       "2          1.0      4  2.05  35.1  171\n",
       "3          1.0      4  1.83  32.2  166\n",
       "4          1.0      5  2.12  28.6  233\n",
       "..         ...    ...   ...   ...  ...\n",
       "140        1.0   9956  1.68  28.8  203\n",
       "141        1.0  11477  2.24  26.5  151\n",
       "142        1.0  11796  2.12  28.6  148\n",
       "143        1.0  14359  2.31  33.5  212\n",
       "144        1.0  16719  2.30  23.6  162\n",
       "\n",
       "[145 rows x 5 columns]"
      ]
     },
     "execution_count": 61,
     "metadata": {},
     "output_type": "execute_result"
    }
   ],
   "source": [
    "import statsmodels.api as sm\n",
    "data['Intercept'] = 1.\n",
    "x = data[['Intercept', 'Q', 'PL', 'PF', 'PK']]\n",
    "y = data['TC']\n",
    "x"
   ]
  },
  {
   "cell_type": "markdown",
   "id": "f4c60fed-9e17-4877-ad65-95b8adb450b7",
   "metadata": {},
   "source": [
    "下面使用OLS作普通最小二乘，fit方法对回归方程进行估计，summary保存了计算的结果。"
   ]
  },
  {
   "cell_type": "code",
   "execution_count": 67,
   "id": "2dd96057-2c4b-434e-9664-815b16754c30",
   "metadata": {},
   "outputs": [
    {
     "data": {
      "text/html": [
       "<table class=\"simpletable\">\n",
       "<caption>OLS Regression Results</caption>\n",
       "<tr>\n",
       "  <th>Dep. Variable:</th>           <td>TC</td>        <th>  R-squared:         </th> <td>   0.923</td>\n",
       "</tr>\n",
       "<tr>\n",
       "  <th>Model:</th>                   <td>OLS</td>       <th>  Adj. R-squared:    </th> <td>   0.921</td>\n",
       "</tr>\n",
       "<tr>\n",
       "  <th>Method:</th>             <td>Least Squares</td>  <th>  F-statistic:       </th> <td>   418.1</td>\n",
       "</tr>\n",
       "<tr>\n",
       "  <th>Date:</th>             <td>Tue, 07 Dec 2021</td> <th>  Prob (F-statistic):</th> <td>9.26e-77</td>\n",
       "</tr>\n",
       "<tr>\n",
       "  <th>Time:</th>                 <td>21:29:03</td>     <th>  Log-Likelihood:    </th> <td> -452.47</td>\n",
       "</tr>\n",
       "<tr>\n",
       "  <th>No. Observations:</th>      <td>   145</td>      <th>  AIC:               </th> <td>   914.9</td>\n",
       "</tr>\n",
       "<tr>\n",
       "  <th>Df Residuals:</th>          <td>   140</td>      <th>  BIC:               </th> <td>   929.8</td>\n",
       "</tr>\n",
       "<tr>\n",
       "  <th>Df Model:</th>              <td>     4</td>      <th>                     </th>     <td> </td>   \n",
       "</tr>\n",
       "<tr>\n",
       "  <th>Covariance Type:</th>      <td>nonrobust</td>    <th>                     </th>     <td> </td>   \n",
       "</tr>\n",
       "</table>\n",
       "<table class=\"simpletable\">\n",
       "<tr>\n",
       "      <td></td>         <th>coef</th>     <th>std err</th>      <th>t</th>      <th>P>|t|</th>  <th>[0.025</th>    <th>0.975]</th>  \n",
       "</tr>\n",
       "<tr>\n",
       "  <th>Intercept</th> <td>  -22.2210</td> <td>    6.587</td> <td>   -3.373</td> <td> 0.001</td> <td>  -35.245</td> <td>   -9.197</td>\n",
       "</tr>\n",
       "<tr>\n",
       "  <th>Q</th>         <td>    0.0064</td> <td>    0.000</td> <td>   39.258</td> <td> 0.000</td> <td>    0.006</td> <td>    0.007</td>\n",
       "</tr>\n",
       "<tr>\n",
       "  <th>PL</th>        <td>    5.6552</td> <td>    2.176</td> <td>    2.598</td> <td> 0.010</td> <td>    1.352</td> <td>    9.958</td>\n",
       "</tr>\n",
       "<tr>\n",
       "  <th>PF</th>        <td>    0.2078</td> <td>    0.064</td> <td>    3.242</td> <td> 0.001</td> <td>    0.081</td> <td>    0.335</td>\n",
       "</tr>\n",
       "<tr>\n",
       "  <th>PK</th>        <td>    0.0284</td> <td>    0.027</td> <td>    1.073</td> <td> 0.285</td> <td>   -0.024</td> <td>    0.081</td>\n",
       "</tr>\n",
       "</table>\n",
       "<table class=\"simpletable\">\n",
       "<tr>\n",
       "  <th>Omnibus:</th>       <td>135.057</td> <th>  Durbin-Watson:     </th> <td>   1.560</td>\n",
       "</tr>\n",
       "<tr>\n",
       "  <th>Prob(Omnibus):</th> <td> 0.000</td>  <th>  Jarque-Bera (JB):  </th> <td>4737.912</td>\n",
       "</tr>\n",
       "<tr>\n",
       "  <th>Skew:</th>          <td> 2.907</td>  <th>  Prob(JB):          </th> <td>    0.00</td>\n",
       "</tr>\n",
       "<tr>\n",
       "  <th>Kurtosis:</th>      <td>30.394</td>  <th>  Cond. No.          </th> <td>5.29e+04</td>\n",
       "</tr>\n",
       "</table><br/><br/>Notes:<br/>[1] Standard Errors assume that the covariance matrix of the errors is correctly specified.<br/>[2] The condition number is large, 5.29e+04. This might indicate that there are<br/>strong multicollinearity or other numerical problems."
      ],
      "text/plain": [
       "<class 'statsmodels.iolib.summary.Summary'>\n",
       "\"\"\"\n",
       "                            OLS Regression Results                            \n",
       "==============================================================================\n",
       "Dep. Variable:                     TC   R-squared:                       0.923\n",
       "Model:                            OLS   Adj. R-squared:                  0.921\n",
       "Method:                 Least Squares   F-statistic:                     418.1\n",
       "Date:                Tue, 07 Dec 2021   Prob (F-statistic):           9.26e-77\n",
       "Time:                        21:29:03   Log-Likelihood:                -452.47\n",
       "No. Observations:                 145   AIC:                             914.9\n",
       "Df Residuals:                     140   BIC:                             929.8\n",
       "Df Model:                           4                                         \n",
       "Covariance Type:            nonrobust                                         \n",
       "==============================================================================\n",
       "                 coef    std err          t      P>|t|      [0.025      0.975]\n",
       "------------------------------------------------------------------------------\n",
       "Intercept    -22.2210      6.587     -3.373      0.001     -35.245      -9.197\n",
       "Q              0.0064      0.000     39.258      0.000       0.006       0.007\n",
       "PL             5.6552      2.176      2.598      0.010       1.352       9.958\n",
       "PF             0.2078      0.064      3.242      0.001       0.081       0.335\n",
       "PK             0.0284      0.027      1.073      0.285      -0.024       0.081\n",
       "==============================================================================\n",
       "Omnibus:                      135.057   Durbin-Watson:                   1.560\n",
       "Prob(Omnibus):                  0.000   Jarque-Bera (JB):             4737.912\n",
       "Skew:                           2.907   Prob(JB):                         0.00\n",
       "Kurtosis:                      30.394   Cond. No.                     5.29e+04\n",
       "==============================================================================\n",
       "\n",
       "Notes:\n",
       "[1] Standard Errors assume that the covariance matrix of the errors is correctly specified.\n",
       "[2] The condition number is large, 5.29e+04. This might indicate that there are\n",
       "strong multicollinearity or other numerical problems.\n",
       "\"\"\""
      ]
     },
     "execution_count": 67,
     "metadata": {},
     "output_type": "execute_result"
    }
   ],
   "source": [
    "model = sm.OLS(y, x)\n",
    "result = model.fit()\n",
    "result.summary(alpha=0.05)"
   ]
  },
  {
   "cell_type": "markdown",
   "id": "a031b2b3-3991-4c74-9702-7a72969c3b10",
   "metadata": {},
   "source": [
    "![回归结果](image/回归结果.png)"
   ]
  },
  {
   "cell_type": "markdown",
   "id": "a7c4f846-52c4-4228-b4f7-d7373b50680c",
   "metadata": {},
   "source": [
    "通过观察上面的回归结果：\n",
    "- 模型的F值F-statistic = 418.1， 对应的P值Prob (F-statistic) = 9.26e-77，说明模型是非常显著的。\n",
    "- 可见拟合优度R-squared = 0.923，修正的拟合优度Adj.R-squared = 0.921，说明模型的解释能力是很好的。"
   ]
  },
  {
   "cell_type": "markdown",
   "id": "af1e4e39-559c-4dae-adc0-3c1a83f886d7",
   "metadata": {},
   "source": [
    "模型的回归方程为：\n",
    "$$\n",
    "TC = -22.2210 + 0.0064\\times Q + 5.6552\\times PL + 0.2078\\times PF + 0.0284\\times PK\n",
    "$$\n",
    "\n",
    "也就是\n",
    "$$\n",
    "电力企业的总成本 = -22.2210 + 0.0064\\times 产量 + 5.6552\\times 工资率 + 0.2078\\times 燃料价格 + 0.0284 \\times 资本租赁价格\n",
    "$$"
   ]
  },
  {
   "cell_type": "markdown",
   "id": "aa9b9c12-e7f1-4b74-adba-324a69056052",
   "metadata": {},
   "source": [
    "## 4. 系数$\\beta$假设检验"
   ]
  },
  {
   "cell_type": "markdown",
   "id": "48971649-b2f1-426d-be78-b02cae5b73c7",
   "metadata": {},
   "source": [
    "对于解释变量系数$\\beta$的假设检验，这里的原假设是系数$\\beta=0$，备择假设是系数$\\beta\\neq 0$。\n",
    "\n",
    "观察刚才的回归结果，我们看到对于变量Q，其系数$\\beta=0$的t统计量为39.258，P值为0.000，P值小于显著性水平alpha=0.05，需要拒绝原假设。说明回归得到系数是显著不为零的。\n",
    "\n",
    "同样，我们会到结论，PL显著不为零，PF显著不为零。但是变量PK(资本租赁价格)的回归系数的检验结果，t=1.073， P=0.285，P值大于显著性水平alpha=0.05，不能拒绝原假设。\n",
    "\n",
    "试着剔除变量PK，也就是不包含PK这一列，再次进行多元回归分析，请自行练习。"
   ]
  },
  {
   "cell_type": "code",
   "execution_count": null,
   "id": "38347206-6323-42a6-82db-4b6cfdd15109",
   "metadata": {},
   "outputs": [],
   "source": [
    "data['Intercept'] = 1.\n",
    "x = data[['Intercept', 'Q', 'PL', 'PF']] \n",
    "#这里PK被删除， 原始的x = data[['Intercept', 'Q', 'PL', 'PF', 'PK']]\n",
    "y = data['TC']"
   ]
  },
  {
   "cell_type": "markdown",
   "id": "982f69c6-f327-4b0e-94f8-a82c64ae894b",
   "metadata": {},
   "source": [
    "## 5. 结论"
   ]
  },
  {
   "cell_type": "markdown",
   "id": "d67eb954-1729-45a6-8ed3-a77254a2f2ec",
   "metadata": {},
   "source": [
    "根据微观经济学对于【规模经济】的解释，在一定的产量范围内，随着产量的增加，生产的平均成本不断降低。\n",
    "\n",
    "根据上面的多元回归分析的结果，可以看出，电力企业的总成本(TC)受到产量(Q)、工资率(PL)、燃料价格(PF)的影响，存在规模经济。\n",
    "\n",
    "例如，保持其他变量不变，增加一个单位的产量(Q)，带来的总成本增加小于一个单位的变化。"
   ]
  }
 ],
 "metadata": {
  "kernelspec": {
   "display_name": "Python 3 (ipykernel)",
   "language": "python",
   "name": "python3"
  },
  "language_info": {
   "codemirror_mode": {
    "name": "ipython",
    "version": 3
   },
   "file_extension": ".py",
   "mimetype": "text/x-python",
   "name": "python",
   "nbconvert_exporter": "python",
   "pygments_lexer": "ipython3",
   "version": "3.11.5"
  }
 },
 "nbformat": 4,
 "nbformat_minor": 5
}
